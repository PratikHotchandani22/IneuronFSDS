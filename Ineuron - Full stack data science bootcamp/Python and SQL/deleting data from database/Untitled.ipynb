{
 "cells": [
  {
   "cell_type": "code",
   "execution_count": 9,
   "metadata": {},
   "outputs": [],
   "source": [
    "import mysql.connector as connection\n",
    "import pandas as pd"
   ]
  },
  {
   "cell_type": "code",
   "execution_count": 10,
   "metadata": {},
   "outputs": [
    {
     "name": "stdout",
     "output_type": "stream",
     "text": [
      "[('book1',), ('chennaihousingdb',), ('glassdatachennaihousingdb',), ('information_schema',), ('mysql',), ('performance_schema',), ('pratikdb',), ('sys',)]\n"
     ]
    }
   ],
   "source": [
    "try:\n",
    "    mydb = connection.connect(host=\"localhost\",user=\"root\", passwd=\"mysql123\",use_pure=True)\n",
    "    # check if the connection is established\n",
    "\n",
    "    query = \"SHOW DATABASES\"\n",
    "\n",
    "    cursor = mydb.cursor() #create a cursor to execute queries\n",
    "    cursor.execute(query)\n",
    "    print(cursor.fetchall())\n",
    "\n",
    "except Exception as e:\n",
    "    mydb.close()\n",
    "    print(str(e))"
   ]
  },
  {
   "cell_type": "code",
   "execution_count": 11,
   "metadata": {},
   "outputs": [
    {
     "name": "stdout",
     "output_type": "stream",
     "text": [
      "[('PRATIK', 'GONDIA ', '33333'), ('PRATIK', 'GONDIA ', '33333'), ('PRATIK', 'GONDIA ', '33333'), ('PRATIK', 'GONDIA ', '33333'), ('PRATIK', 'GONDIA ', '33333'), ('PRATIK', 'GONDIA ', '33333'), ('PRATIK', 'GONDIA ', '33333'), ('PRATIK', 'GONDIA ', '33333'), ('pratik', 'ngp', '5400'), ('mohit', 'ngp', '545342'), ('nikhil ', 'bnglr', '322432')]\n"
     ]
    }
   ],
   "source": [
    "cursor.execute(\"SELECT * FROM book1.rentprice\")\n",
    "print(cursor.fetchall())"
   ]
  },
  {
   "cell_type": "code",
   "execution_count": 12,
   "metadata": {},
   "outputs": [],
   "source": [
    "cursor.execute(\"DELETE FROM book1.rentprice WHERE city = 'ngp'\")"
   ]
  },
  {
   "cell_type": "code",
   "execution_count": 13,
   "metadata": {},
   "outputs": [
    {
     "name": "stdout",
     "output_type": "stream",
     "text": [
      "[('PRATIK', 'GONDIA ', '33333'), ('PRATIK', 'GONDIA ', '33333'), ('PRATIK', 'GONDIA ', '33333'), ('PRATIK', 'GONDIA ', '33333'), ('PRATIK', 'GONDIA ', '33333'), ('PRATIK', 'GONDIA ', '33333'), ('PRATIK', 'GONDIA ', '33333'), ('PRATIK', 'GONDIA ', '33333'), ('nikhil ', 'bnglr', '322432')]\n"
     ]
    }
   ],
   "source": [
    "cursor.execute(\"SELECT * FROM book1.rentprice\")\n",
    "print(cursor.fetchall())"
   ]
  },
  {
   "cell_type": "code",
   "execution_count": 14,
   "metadata": {},
   "outputs": [],
   "source": [
    "mydb.commit()"
   ]
  },
  {
   "cell_type": "code",
   "execution_count": null,
   "metadata": {},
   "outputs": [],
   "source": []
  }
 ],
 "metadata": {
  "kernelspec": {
   "display_name": "Python 3",
   "language": "python",
   "name": "python3"
  },
  "language_info": {
   "codemirror_mode": {
    "name": "ipython",
    "version": 3
   },
   "file_extension": ".py",
   "mimetype": "text/x-python",
   "name": "python",
   "nbconvert_exporter": "python",
   "pygments_lexer": "ipython3",
   "version": "3.8.5"
  }
 },
 "nbformat": 4,
 "nbformat_minor": 4
}
