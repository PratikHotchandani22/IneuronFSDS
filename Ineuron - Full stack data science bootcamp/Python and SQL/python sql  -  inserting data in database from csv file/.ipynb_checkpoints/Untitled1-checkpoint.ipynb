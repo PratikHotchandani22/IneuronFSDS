{
 "cells": [
  {
   "cell_type": "code",
   "execution_count": 19,
   "metadata": {},
   "outputs": [],
   "source": [
    "import mysql.connector as connection\n",
    "import pandas as pandas\n",
    "import csv"
   ]
  },
  {
   "cell_type": "code",
   "execution_count": 20,
   "metadata": {},
   "outputs": [
    {
     "data": {
      "text/plain": [
       "['ï»¿name', 'city', 'rent']"
      ]
     },
     "execution_count": 20,
     "metadata": {},
     "output_type": "execute_result"
    }
   ],
   "source": [
    "file = open('Book1.csv')\n",
    "type(file)\n",
    "csvreader = csv.reader(file)\n",
    "header = []\n",
    "header = next(csvreader)\n",
    "header"
   ]
  },
  {
   "cell_type": "code",
   "execution_count": 21,
   "metadata": {},
   "outputs": [
    {
     "name": "stdout",
     "output_type": "stream",
     "text": [
      "[('book1',), ('chennaihousingdb',), ('glassdatachennaihousingdb',), ('information_schema',), ('mysql',), ('performance_schema',), ('pratikdb',), ('sys',)]\n"
     ]
    }
   ],
   "source": [
    "try:\n",
    "    mydb = connection.connect(host=\"localhost\",user=\"root\", passwd=\"mysql123\",use_pure=True)\n",
    "    # check if the connection is established\n",
    "\n",
    "    query = \"CREATE DATABASE IF NOT EXISTS Book1;\"\n",
    "\n",
    "    cursor2 = mydb.cursor() #create a cursor to execute queries\n",
    "    cursor2.execute(query)\n",
    "    \n",
    "    cursor2.execute(\"SHOW DATABASES\")\n",
    "    \n",
    "    print(cursor2.fetchall())\n",
    "\n",
    "except Exception as e:\n",
    "    #mydb.close()\n",
    "    print(str(e))"
   ]
  },
  {
   "cell_type": "code",
   "execution_count": 22,
   "metadata": {},
   "outputs": [],
   "source": [
    "query =\"CREATE TABLE IF NOT EXISTS Book1.rentPrice (name VARCHAR(20), city VARCHAR(20), rent VARCHAR(20))\""
   ]
  },
  {
   "cell_type": "code",
   "execution_count": 23,
   "metadata": {},
   "outputs": [],
   "source": [
    "cursor2.execute(query)"
   ]
  },
  {
   "cell_type": "code",
   "execution_count": 24,
   "metadata": {},
   "outputs": [
    {
     "name": "stdout",
     "output_type": "stream",
     "text": [
      "[('PRATIK', 'GONDIA ', '33333'), ('PRATIK', 'GONDIA ', '33333'), ('PRATIK', 'GONDIA ', '33333'), ('PRATIK', 'GONDIA ', '33333')]\n"
     ]
    }
   ],
   "source": [
    "cursor2.execute(\"SELECT * from Book1.rentPrice\")\n",
    "print(cursor2.fetchall())"
   ]
  },
  {
   "cell_type": "code",
   "execution_count": 25,
   "metadata": {},
   "outputs": [],
   "source": [
    "query2 = \"INSERT INTO Book1.rentPrice (name,city,rent) VALUES ('PRATIK', 'GONDIA ', '33333')\"\n",
    "cursor3 = mydb.cursor()\n",
    "cursor3.execute(query2)\n",
    "mydb.commit()"
   ]
  },
  {
   "cell_type": "code",
   "execution_count": 26,
   "metadata": {},
   "outputs": [
    {
     "data": {
      "text/plain": [
       "<_csv.reader at 0x1dca6aba580>"
      ]
     },
     "execution_count": 26,
     "metadata": {},
     "output_type": "execute_result"
    }
   ],
   "source": [
    "csvreader"
   ]
  },
  {
   "cell_type": "code",
   "execution_count": 28,
   "metadata": {},
   "outputs": [],
   "source": [
    "for i in csvreader:\n",
    "    print(i)"
   ]
  },
  {
   "cell_type": "code",
   "execution_count": null,
   "metadata": {},
   "outputs": [],
   "source": []
  }
 ],
 "metadata": {
  "kernelspec": {
   "display_name": "Python 3",
   "language": "python",
   "name": "python3"
  },
  "language_info": {
   "codemirror_mode": {
    "name": "ipython",
    "version": 3
   },
   "file_extension": ".py",
   "mimetype": "text/x-python",
   "name": "python",
   "nbconvert_exporter": "python",
   "pygments_lexer": "ipython3",
   "version": "3.8.5"
  }
 },
 "nbformat": 4,
 "nbformat_minor": 4
}
